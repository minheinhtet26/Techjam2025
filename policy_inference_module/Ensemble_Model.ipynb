{
 "cells": [
  {
   "cell_type": "markdown",
   "id": "204fe715-57b9-4dc7-9d29-90ff1af30a64",
   "metadata": {},
   "source": [
    "# Spam Classifier"
   ]
  },
  {
   "cell_type": "code",
   "execution_count": 1,
   "id": "627a3171-f657-4dd7-8554-b405773819e6",
   "metadata": {},
   "outputs": [
    {
     "name": "stderr",
     "output_type": "stream",
     "text": [
      "Asking to truncate to max_length but no maximum length is provided and the model has no predefined maximum length. Default to no truncation.\n"
     ]
    },
    {
     "name": "stdout",
     "output_type": "stream",
     "text": [
      "Text: Congratulations! You've won a $1,000 Walmart gift card. Click here to claim now.\n",
      "Prediction: Spam\n",
      "\n",
      "Text: Hey, are we still meeting for lunch today?\n",
      "Prediction: Not Spam\n",
      "\n"
     ]
    }
   ],
   "source": [
    "from transformers import AutoTokenizer, AutoModelForSequenceClassification\n",
    "import torch\n",
    "\n",
    "# Load the tokenizer and model\n",
    "spam_tokenizer = AutoTokenizer.from_pretrained(\"AntiSpamInstitute/spam-detector-bert-MoE-v2.2\")\n",
    "spam_model = AutoModelForSequenceClassification.from_pretrained(\"AntiSpamInstitute/spam-detector-bert-MoE-v2.2\")\n",
    "\n",
    "# Sample text\n",
    "texts = [\n",
    "    \"Congratulations! You've won a $1,000 Walmart gift card. Click here to claim now.\",\n",
    "    \"Hey, are we still meeting for lunch today?\"\n",
    "]\n",
    "\n",
    "# Tokenize the input\n",
    "inputs = spam_tokenizer(texts, return_tensors=\"pt\", padding=True, truncation=True)\n",
    "\n",
    "# Get model predictions\n",
    "with torch.no_grad():\n",
    "    outputs = spam_model(**inputs)\n",
    "    logits = outputs.logits\n",
    "\n",
    "# Apply softmax to get probabilities\n",
    "probabilities = torch.softmax(logits, dim=1)\n",
    "\n",
    "# Get predicted labels\n",
    "predictions = torch.argmax(probabilities, dim=1)\n",
    "\n",
    "# Map labels to class names\n",
    "label_map = {0: \"Not Spam\", 1: \"Spam\"}\n",
    "for text, prediction in zip(texts, predictions):\n",
    "    print(f\"Text: {text}\\nPrediction: {label_map[prediction.item()]}\\n\")"
   ]
  },
  {
   "cell_type": "markdown",
   "id": "7ad02c3d-a686-4082-9dfe-703683975c55",
   "metadata": {},
   "source": [
    "# Sentiment Analyser"
   ]
  },
  {
   "cell_type": "code",
   "execution_count": 2,
   "id": "3220e06c-34ce-459d-96de-358a8432177c",
   "metadata": {},
   "outputs": [
    {
     "name": "stdout",
     "output_type": "stream",
     "text": [
      "1) positive 0.8466\n",
      "2) neutral 0.1458\n",
      "3) negative 0.0076\n"
     ]
    }
   ],
   "source": [
    "from transformers import AutoModelForSequenceClassification\n",
    "from transformers import TFAutoModelForSequenceClassification\n",
    "from transformers import AutoTokenizer\n",
    "import numpy as np\n",
    "from scipy.special import softmax\n",
    "import csv\n",
    "import urllib.request\n",
    "\n",
    "# Preprocess links (link placeholders)\n",
    "def preprocess(text):\n",
    "    new_text = []\n",
    " \n",
    "    for t in text.split(\" \"):\n",
    "        #t = '@user' if t.startswith('@') and len(t) > 1 else t\n",
    "        t = 'http' if t.startswith('http') else t\n",
    "        new_text.append(t)\n",
    "    return \" \".join(new_text)\n",
    "\n",
    "# Tasks:\n",
    "# emoji, emotion, hate, irony, offensive, sentiment\n",
    "# stance/abortion, stance/atheism, stance/climate, stance/feminist, stance/hillary\n",
    "\n",
    "task='sentiment'\n",
    "sentiment_model = f\"cardiffnlp/twitter-roberta-base-{task}\"\n",
    "sentiment_tokenizer = AutoTokenizer.from_pretrained(sentiment_model)\n",
    "\n",
    "# download label mapping\n",
    "labels = []\n",
    "mapping_link = f\"https://raw.githubusercontent.com/cardiffnlp/tweeteval/main/datasets/{task}/mapping.txt\"\n",
    "with urllib.request.urlopen(mapping_link) as f:\n",
    "    html = f.read().decode('utf-8').split(\"\\n\")\n",
    "    csvreader = csv.reader(html, delimiter='\\t')\n",
    "labels = [row[1] for row in csvreader if len(row) > 1]\n",
    "\n",
    "# PT\n",
    "sentiment_model = AutoModelForSequenceClassification.from_pretrained(sentiment_model)\n",
    "#sentiment_model.save_pretrained(sentiment_model)\n",
    "\n",
    "text = \"Good night 😊\"\n",
    "text = preprocess(text)\n",
    "encoded_input = sentiment_tokenizer(text, return_tensors='pt')\n",
    "output = sentiment_model(**encoded_input)\n",
    "scores = output[0][0].detach().numpy()\n",
    "scores = softmax(scores)\n",
    "\n",
    "# # TF\n",
    "# model = TFAutoModelForSequenceClassification.from_pretrained(MODEL)\n",
    "# model.save_pretrained(MODEL)\n",
    "\n",
    "# text = \"Good night 😊\"\n",
    "# encoded_input = tokenizer(text, return_tensors='tf')\n",
    "# output = model(encoded_input)\n",
    "# scores = output[0][0].numpy()\n",
    "# scores = softmax(scores)\n",
    "\n",
    "ranking = np.argsort(scores)\n",
    "ranking = ranking[::-1]\n",
    "for i in range(scores.shape[0]):\n",
    "    l = labels[ranking[i]]\n",
    "    s = scores[ranking[i]]\n",
    "    print(f\"{i+1}) {l} {np.round(float(s), 4)}\")"
   ]
  },
  {
   "cell_type": "markdown",
   "id": "b10a31e7-231d-47ee-aa61-883f30ba5029",
   "metadata": {},
   "source": [
    "# Sarcasm Detector"
   ]
  },
  {
   "cell_type": "code",
   "execution_count": 3,
   "id": "31675446-f654-4c4a-b605-53ee1cf2fd48",
   "metadata": {},
   "outputs": [
    {
     "name": "stdout",
     "output_type": "stream",
     "text": [
      "1) irony 0.8759\n",
      "2) non_irony 0.1241\n"
     ]
    }
   ],
   "source": [
    "from transformers import AutoModelForSequenceClassification\n",
    "from transformers import TFAutoModelForSequenceClassification\n",
    "from transformers import AutoTokenizer\n",
    "import numpy as np\n",
    "from scipy.special import softmax\n",
    "import csv\n",
    "import urllib.request\n",
    "\n",
    "# Preprocess links (link placeholders)\n",
    "def preprocess(text):\n",
    "    new_text = []\n",
    " \n",
    "    for t in text.split(\" \"):\n",
    "        #t = '@user' if t.startswith('@') and len(t) > 1 else t\n",
    "        t = 'http' if t.startswith('http') else t\n",
    "        new_text.append(t)\n",
    "    return \" \".join(new_text)\n",
    "\n",
    "# Tasks:\n",
    "# emoji, emotion, hate, irony, offensive, sentiment\n",
    "# stance/abortion, stance/atheism, stance/climate, stance/feminist, stance/hillary\n",
    "\n",
    "task='irony'\n",
    "irony_model = f\"cardiffnlp/twitter-roberta-base-{task}\"\n",
    "irony_tokenizer = AutoTokenizer.from_pretrained(irony_model)\n",
    "\n",
    "# download label mapping\n",
    "labels = []\n",
    "mapping_link = f\"https://raw.githubusercontent.com/cardiffnlp/tweeteval/main/datasets/{task}/mapping.txt\"\n",
    "with urllib.request.urlopen(mapping_link) as f:\n",
    "    html = f.read().decode('utf-8').split(\"\\n\")\n",
    "    csvreader = csv.reader(html, delimiter='\\t')\n",
    "labels = [row[1] for row in csvreader if len(row) > 1]\n",
    "\n",
    "# PT\n",
    "irony_model = AutoModelForSequenceClassification.from_pretrained(irony_model)\n",
    "#sentiment_model.save_pretrained(sentiment_model)\n",
    "\n",
    "text = \"wow youre so good at studying, i couldnt even study that hard and still not pass\"\n",
    "text = preprocess(text)\n",
    "encoded_input = irony_tokenizer(text, return_tensors='pt')\n",
    "output = irony_model(**encoded_input)\n",
    "scores = output[0][0].detach().numpy()\n",
    "scores = softmax(scores)\n",
    "\n",
    "# # TF\n",
    "# model = TFAutoModelForSequenceClassification.from_pretrained(MODEL)\n",
    "# model.save_pretrained(MODEL)\n",
    "\n",
    "# text = \"Good night 😊\"\n",
    "# encoded_input = tokenizer(text, return_tensors='tf')\n",
    "# output = model(encoded_input)\n",
    "# scores = output[0][0].numpy()\n",
    "# scores = softmax(scores)\n",
    "\n",
    "ranking = np.argsort(scores)\n",
    "ranking = ranking[::-1]\n",
    "for i in range(scores.shape[0]):\n",
    "    l = labels[ranking[i]]\n",
    "    s = scores[ranking[i]]\n",
    "    print(f\"{i+1}) {l} {np.round(float(s), 4)}\")"
   ]
  },
  {
   "cell_type": "markdown",
   "id": "19a7745d-6faf-4653-8a9d-26d6627ed5a5",
   "metadata": {},
   "source": [
    "# Preprocessing"
   ]
  },
  {
   "cell_type": "code",
   "execution_count": 4,
   "id": "6e3c3fa7-3d50-4c17-9d9a-954de3f13c0a",
   "metadata": {},
   "outputs": [
    {
     "name": "stdout",
     "output_type": "stream",
     "text": [
      "                                                text  \\\n",
      "0  Big supermarket here with two storey. Can find...   \n",
      "1  Tried to collect book bugs. Before 5pm the lib...   \n",
      "2  Oh, my God, it's just a wavey. Wooden bridge w...   \n",
      "3  No sheltered pathway out of the office buildin...   \n",
      "4                   hard to find and so confusing...   \n",
      "\n",
      "                                 preprocessed_review  \n",
      "0  Big supermarket here with two storey. Can find...  \n",
      "1  Tried to collect book bugs. Before 5pm the lib...  \n",
      "2  Oh, my God, it's just a wavey. Wooden bridge w...  \n",
      "3  No sheltered pathway out of the office buildin...  \n",
      "4                   hard to find and so confusing...  \n"
     ]
    }
   ],
   "source": [
    "import pandas as pd\n",
    "\n",
    "# Load your CSV\n",
    "df = pd.read_csv(\"final_eval_dataset_reviews.csv\", encoding='latin1')\n",
    "\n",
    "# Apply preprocessing to each review\n",
    "def preprocess(text):\n",
    "    new_text = []\n",
    "    for t in text.split(\" \"):\n",
    "        t = '<link>' if t.startswith('http') else t\n",
    "        new_text.append(t)\n",
    "    return \" \".join(new_text)\n",
    "\n",
    "# Create a new column for preprocessed reviews\n",
    "df['preprocessed_review'] = df['text'].apply(preprocess)\n",
    "\n",
    "print(df[['text', 'preprocessed_review']].head())\n",
    "\n",
    "\n",
    "df.to_csv(\"processed_reviews.csv\", index=False)"
   ]
  },
  {
   "cell_type": "markdown",
   "id": "b9c953e8-fef4-45dc-b9d4-e7d9a4c23d40",
   "metadata": {},
   "source": [
    "# Run Classifiers"
   ]
  },
  {
   "cell_type": "code",
   "execution_count": 5,
   "id": "459e65ce-5cbc-4016-a589-cdafed570bff",
   "metadata": {},
   "outputs": [
    {
     "name": "stdout",
     "output_type": "stream",
     "text": [
      "  spam_label_ sentiment_label_ sarcasm_label_\n",
      "0    Not Spam         Negative  Not Sarcastic\n",
      "1    Not Spam         Negative  Not Sarcastic\n",
      "2    Not Spam         Positive  Not Sarcastic\n",
      "3    Not Spam         Negative  Not Sarcastic\n",
      "4    Not Spam         Negative  Not Sarcastic\n"
     ]
    }
   ],
   "source": [
    "import pandas as pd\n",
    "\n",
    "# Function to run all classifiers\n",
    "def run_classifiers(preprocessed_text):\n",
    "    results = {}\n",
    "    try:\n",
    "        # Spam\n",
    "        inputs = spam_tokenizer(preprocessed_text, return_tensors='pt', padding=True, truncation=True, max_length=512)\n",
    "        with torch.no_grad():\n",
    "            outputs = spam_model(**inputs)\n",
    "        probs = torch.softmax(outputs.logits, dim=1).numpy()[0]\n",
    "        pred = np.argmax(probs)\n",
    "        results['spam_label_'] = \"Spam\" if pred == 1 else \"Not Spam\"\n",
    "\n",
    "        # Sentiment\n",
    "        inputs = sentiment_tokenizer(preprocessed_text, return_tensors='pt', padding=True, truncation=True, max_length=512)\n",
    "        with torch.no_grad():\n",
    "            outputs = sentiment_model(**inputs)\n",
    "        scores = softmax(outputs.logits.detach().numpy()[0])\n",
    "        pred = np.argmax(scores)\n",
    "        labels_list = ['Negative', 'Neutral', 'Positive']\n",
    "        results['sentiment_label_'] = labels_list[pred]\n",
    "\n",
    "        # Sarcasm\n",
    "        inputs = irony_tokenizer(preprocessed_text, return_tensors='pt', padding=True, truncation=True, max_length=512)\n",
    "        with torch.no_grad():\n",
    "            outputs = irony_model(**inputs)\n",
    "        scores = softmax(outputs.logits.detach().numpy()[0])\n",
    "        pred = np.argmax(scores)\n",
    "        results['sarcasm_label_'] = \"Sarcastic\" if pred == 1 else \"Not Sarcastic\"\n",
    "\n",
    "    except Exception as e:\n",
    "        # fallback if model fails\n",
    "        results['spam_label_'] = 'Error'\n",
    "        results['sentiment_label_'] = 'Error'\n",
    "        results['sarcasm_label_'] = 'Error'\n",
    "\n",
    "    return pd.Series(results)\n",
    "\n",
    "# Apply to your DataFrame\n",
    "df[['spam_label_', 'sentiment_label_', 'sarcasm_label_']] = df['preprocessed_review'].apply(run_classifiers)\n",
    "\n",
    "# Check\n",
    "print(df[['spam_label_', 'sentiment_label_', 'sarcasm_label_']].head())\n",
    "\n",
    "df.to_csv(\"processed_reviews.csv\", index=False)\n"
   ]
  },
  {
   "cell_type": "markdown",
   "id": "10593886-b600-49f6-b340-2a8b59aac6b0",
   "metadata": {},
   "source": [
    "# Relevancy Scoring"
   ]
  },
  {
   "cell_type": "code",
   "execution_count": 6,
   "id": "d73f679a-6e60-46fd-a472-e2278bc4abaf",
   "metadata": {},
   "outputs": [],
   "source": [
    "import pandas as pd\n",
    "import spacy\n",
    "from sklearn.metrics.pairwise import cosine_similarity\n",
    "\n",
    "df = pd.read_csv(\"processed_reviews.csv\")\n",
    "nlp = spacy.load(\"en_core_web_lg\")\n",
    "\n",
    "def compute_relevance(row):\n",
    "    review = row['preprocessed_review']\n",
    "    categories = row['categoryName']  # column in your CSV\n",
    "    types = row['types']              # column in your CSV\n",
    "    \n",
    "    types_in_array = [x.strip().replace(\"_\", \" \") for x in types.split(\",\")]\n",
    "    types_in_array.append(categories)\n",
    "    types_in_array = [t for t in types_in_array if t not in ['point of interest', 'establishment']]\n",
    "    \n",
    "    word_vec = sum([nlp(k).vector for k in types_in_array]) / len(types_in_array)\n",
    "    word_vec = word_vec.reshape(1, -1)\n",
    "    \n",
    "    doc = nlp(review)\n",
    "    score = sum([cosine_similarity(word_vec, sent.vector.reshape(1,-1))[0][0] for sent in doc.sents])\n",
    "    avg_score = score / len(list(doc.sents)) if len(list(doc.sents)) != 0 else 0\n",
    "    \n",
    "    relevance_threshold = 0.3\n",
    "    label = \"Relevant\" if avg_score >= relevance_threshold else \"Not Relevant\"\n",
    "    \n",
    "    return pd.Series([avg_score, label])\n",
    "\n",
    "df[['relevance_score', 'relevance_label']] = df.apply(compute_relevance, axis=1)\n",
    "df.to_csv(\"processed_reviews1.csv\", index=False)\n"
   ]
  },
  {
   "cell_type": "markdown",
   "id": "6e90fc26-ddc5-44f1-93d3-d0b8e33a68ed",
   "metadata": {},
   "source": [
    "# Run Summariser"
   ]
  },
  {
   "cell_type": "code",
   "execution_count": 21,
   "id": "c7377a21-ffa3-4161-b1b4-bd0fbbe1ab81",
   "metadata": {},
   "outputs": [],
   "source": [
    "import requests\n",
    "\n",
    "def ollama_summarize(text, category,max_words=100, model=\"llama3.2\"):\n",
    "    prompt = f\"\"\"\n",
    "            You are a review summarizer. \n",
    "            Your task is to read a user review and generate a short, concise summary that captures the main points and meaning \n",
    "            without losing important details. \n",
    "            \n",
    "            Use clear and simple language. \n",
    "            Keep the summary brief, ideally two or three sentences. \n",
    "            Do not add opinions or extra information not present in the review. \n",
    "\n",
    "            If the review seems negative, include the word negative in the summary.\n",
    "            If the review seems like an average experience, use the word average in the summary.\n",
    "            If the review seems like a positive experience, use the word positive in the summary.\n",
    "            If the review does not describe the location itself, its services, facilities, or the user’s experience there → Output: Briefly explain why the review is irrelevant, and include the word irrelevant in the sentence.\n",
    "            If the review is too promotional/advertisement-like to a brand or product→ Output: Summarise the promotional content and explain why it sounds promotional and include the word advertisement-like in the sentence.\n",
    "            If the review explicitly discriminates against certain groups or races → Output: Identify the group being discriminated against and use the word insensitive in the sentence.\n",
    "            If the review is informative (about the location) → Output: Summarise the main points of information given in 1–2 sentences, and use the word informative in the sentence.\n",
    "            If the reviewer seems like they did not go to the location before → Output: Explain why it seems the reviewer did not go and use the phrase did not visit in the sentence.\n",
    "            \n",
    "            You are given some context to the user review, including whether sarcasm is present. \n",
    "            If sarcasm is detected, interpret the review accordingly and summarize the intended meaning rather than the literal words.\n",
    "            \n",
    "            Summarize the following text in at most {max_words} words. \n",
    "            \n",
    "            Keep the reply in this format:\n",
    "            1) Location Type \n",
    "            2) Summarised Review\n",
    "            \n",
    "            Here are some examples:\n",
    "            \n",
    "            User: Location: MRT Station \"On my way to my teacher's event, just had lunch before I left\"  \n",
    "            Model:  \n",
    "            1) MRT Station  \n",
    "            2) The review discusses personal activities and lunch, which are irrelevant to the MRT station experience.\n",
    "            \n",
    "            User: Location : Store \"Get the new sleek and trendy sunglasses today at sunglaz\"\n",
    "            Model:\n",
    "            1) Store\n",
    "            2) The review sounds very promotional and advertisement-like for sunglaz sunglasses\n",
    "            \n",
    "            User: Location : Tourist Attraction \"There is just too many foreigners here nowadays, everyone should go back to where they came from.\"\n",
    "            Model:\n",
    "            1) Tourist Attraction\n",
    "            2) The reviewer is insensitive and discriminates against foreigners visiting the tourist attraction.\n",
    "            \n",
    "            User: Location : Hotel \"The hotel was average with okay service. Staff were friendly and the breakfast buffet had a lot of options. It is close to many bus interchanges and mrt stations\"\n",
    "            Model:\n",
    "            1) Hotel\n",
    "            2) Average hotel with okay service, friendly staff ,and a wide breakfast buffet. The reviewer also gives informative facts that the hotel is also close to many bus interchanges and mrt stations.\n",
    "            \n",
    "            User: Location : Tourist Attraction \"I came here and it was closed, my friends mentioned that the place is smelly though I have never been\"\n",
    "            Model:\n",
    "            1) Tourist Attraction\n",
    "            2) The reviewer came when the attraction was closed, and did not enter. The reviewer also mentioned that they did not visit the attraction.\n",
    "            \n",
    "            User: \"This park is very peaceful and clean. A great place to walk and relax during my lunch break.\"\n",
    "            Model:\n",
    "            1) Park\n",
    "            2) The reviewer had a positive experience with the cleanliness and peacefulness of the park. They like to relax in the park during their lunch break.\n",
    "            \n",
    "            User: \"The restaurant food was cold and service was slow. Not worth the money.\"\n",
    "            Model:\n",
    "            1) Restaurant\n",
    "            2) The reviewer had a negative experience with the cold food and slow service from the restaurant, and notes that the experience was not worth the money.\n",
    "            \n",
    "            User : Location : Cafe (Sarcastic) \"Oh great, another long line at the cafe. Just what I needed today.\"\n",
    "            Model:\n",
    "            1) Cafe\n",
    "            2) The reviewer had a negative experience with the long line at the cafe.\n",
    "\n",
    "            User : Location : Restaurant \"The food was okay, and the restaurant was not so crowded\"\n",
    "            Model:\n",
    "            1) Cafe\n",
    "            2) The reviewer had an average experience and was neutral about the experience because the food was average.\n",
    "            \n",
    "            Now summarize this review: \n",
    "            Do not add opinions or extra information not present in the review.\n",
    "            Location : {category} \"{text}\"\n",
    "            \"\"\"\n",
    "\n",
    "    r = requests.post(\n",
    "        \"http://localhost:11434/api/generate\",\n",
    "        json={\"model\": model, \"prompt\": prompt, \"stream\": False},\n",
    "        timeout=300\n",
    "    )\n",
    "    r.raise_for_status()\n",
    "    return r.json()[\"response\"].strip()"
   ]
  },
  {
   "cell_type": "code",
   "execution_count": null,
   "id": "9f0340be-28f1-4db4-89d2-9f285f497e39",
   "metadata": {
    "scrolled": true
   },
   "outputs": [
    {
     "name": "stderr",
     "output_type": "stream",
     "text": [
      "  0%|▎                                                                                 | 1/314 [00:02<15:18,  2.93s/it]"
     ]
    },
    {
     "name": "stdout",
     "output_type": "stream",
     "text": [
      "0    Big supermarket here with two storey. Can find...\n",
      "Name: modified_review, dtype: object\n",
      "1) Grocery Store\n",
      "2) The reviewer found a big supermarket with two floors, but the review is too long and incomplete to summarize its contents accurately, making it irrelevant.\n",
      "\n",
      "\n",
      "1) Grocery Store\n",
      "2) The reviewer found a big supermarket with two floors, but the review is too long and incomplete to summarize its contents accurately, making it irrelevant. | Labels: Negative\n"
     ]
    },
    {
     "name": "stderr",
     "output_type": "stream",
     "text": [
      "  1%|▌                                                                                 | 2/314 [00:05<15:07,  2.91s/it]"
     ]
    },
    {
     "name": "stdout",
     "output_type": "stream",
     "text": [
      "1    Tried to collect book bugs. Before 5pm the lib...\n",
      "Name: modified_review, dtype: object\n",
      "1) Public library\n",
      "2) The reviewer mentions trying to collect book bugs and mentions a specific time frame (before 5pm), which is informative about their experience at the library.\n",
      "\n",
      "\n",
      "1) Public library\n",
      "2) The reviewer mentions trying to collect book bugs and mentions a specific time frame (before 5pm), which is informative about their experience at the library. | Labels: Negative\n"
     ]
    },
    {
     "name": "stderr",
     "output_type": "stream",
     "text": [
      "  1%|▊                                                                                 | 3/314 [00:08<14:47,  2.86s/it]"
     ]
    },
    {
     "name": "stdout",
     "output_type": "stream",
     "text": [
      "2    Oh, my God, it's just a wavey. Wooden bridge w...\n",
      "Name: modified_review, dtype: object\n",
      "1) Bridge\n",
      "2) The reviewer is sarcastically expressing their disappointment and frustration with the wooden bridge, implying that it is flimsy and of poor quality.\n",
      "\n",
      "\n",
      "1) Bridge\n",
      "2) The reviewer is sarcastically expressing their disappointment and frustration with the wooden bridge, implying that it is flimsy and of poor quality. | Labels: Positive, Irrelevant\n"
     ]
    },
    {
     "name": "stderr",
     "output_type": "stream",
     "text": [
      "  1%|█                                                                                 | 4/314 [00:11<14:24,  2.79s/it]"
     ]
    },
    {
     "name": "stdout",
     "output_type": "stream",
     "text": [
      "3    No sheltered pathway out of the office buildin...\n",
      "Name: modified_review, dtype: object\n",
      "1) Corporate Office  \n",
      "2) The reviewer mentions a lack of a sheltered pathway, which is relevant to the corporate office experience.\n",
      "\n",
      "\n",
      "1) Corporate Office  \n",
      "2) The reviewer mentions a lack of a sheltered pathway, which is relevant to the corporate office experience. | Labels: Negative\n"
     ]
    },
    {
     "name": "stderr",
     "output_type": "stream",
     "text": [
      "  2%|█▎                                                                                | 5/314 [00:13<14:10,  2.75s/it]"
     ]
    },
    {
     "name": "stdout",
     "output_type": "stream",
     "text": [
      "4    hard to find and so confusing... Category: Sub...\n",
      "Name: modified_review, dtype: object\n",
      "1) Subway Station  \n",
      "2) The reviewer found it hard to find and thought the subway station was confusing.\n",
      "\n",
      "\n",
      "1) Subway Station  \n",
      "2) The reviewer found it hard to find and thought the subway station was confusing. | Labels: Negative\n"
     ]
    },
    {
     "name": "stderr",
     "output_type": "stream",
     "text": [
      "  2%|█▌                                                                                | 6/314 [00:16<14:04,  2.74s/it]"
     ]
    },
    {
     "name": "stdout",
     "output_type": "stream",
     "text": [
      "5    MRT station toilet cleaning needs improvement....\n",
      "Name: modified_review, dtype: object\n",
      "1) MRT Station\n",
      "2) The review indicates that the cleanliness of the MRT station's toilets is a concern.\n",
      "\n",
      "\n",
      "1) MRT Station\n",
      "2) The review indicates that the cleanliness of the MRT station's toilets is a concern. | Labels: Negative\n"
     ]
    },
    {
     "name": "stderr",
     "output_type": "stream",
     "text": [
      "  2%|█▊                                                                                | 7/314 [00:19<13:47,  2.70s/it]"
     ]
    },
    {
     "name": "stdout",
     "output_type": "stream",
     "text": [
      "6    Very basic and no sitting arrangements for the...\n",
      "Name: modified_review, dtype: object\n",
      "1) Park\n",
      "2) The park had very basic facilities with no seating arrangements.\n",
      "\n",
      "\n",
      "1) Park\n",
      "2) The park had very basic facilities with no seating arrangements. | Labels: Negative, Irrelevant\n"
     ]
    },
    {
     "name": "stderr",
     "output_type": "stream",
     "text": [
      "  3%|██                                                                                | 8/314 [00:22<13:46,  2.70s/it]"
     ]
    },
    {
     "name": "stdout",
     "output_type": "stream",
     "text": [
      "7    Inconvenient place to walk to mrt station sinc...\n",
      "Name: modified_review, dtype: object\n",
      "1) Railway Station  \n",
      "2) The reviewer finds the railway station inconvenient to walk to, indicating a negative experience.\n",
      "\n",
      "\n",
      "1) Railway Station  \n",
      "2) The reviewer finds the railway station inconvenient to walk to, indicating a negative experience. | Labels: Neutral\n"
     ]
    },
    {
     "name": "stderr",
     "output_type": "stream",
     "text": [
      "  3%|██▎                                                                               | 9/314 [00:25<14:12,  2.79s/it]"
     ]
    },
    {
     "name": "stdout",
     "output_type": "stream",
     "text": [
      "8    i dont get the long queue hype over this hong ...\n",
      "Name: modified_review, dtype: object\n",
      "1) Hawker Center  \n",
      "2) The reviewer is expressing skepticism about the long queues at a popular hawker center called Hong Kong Street Food Stall, which suggests that their experience might not be as positive as expected.\n",
      "\n",
      "\n",
      "1) Hawker Center  \n",
      "2) The reviewer is expressing skepticism about the long queues at a popular hawker center called Hong Kong Street Food Stall, which suggests that their experience might not be as positive as expected. | Labels: Negative\n"
     ]
    },
    {
     "name": "stderr",
     "output_type": "stream",
     "text": [
      "  3%|██▌                                                                              | 10/314 [00:27<14:00,  2.76s/it]"
     ]
    },
    {
     "name": "stdout",
     "output_type": "stream",
     "text": [
      "9    Security anyhow clamp peopleâs car even with...\n",
      "Name: modified_review, dtype: object\n",
      "1) Condominium complex\n",
      "2) The reviewer mentions security issues with the condominium complex, where security personnel clamp down on cars.\n",
      "\n",
      "\n",
      "1) Condominium complex\n",
      "2) The reviewer mentions security issues with the condominium complex, where security personnel clamp down on cars. | Labels: Negative\n"
     ]
    },
    {
     "name": "stderr",
     "output_type": "stream",
     "text": [
      "  4%|██▊                                                                              | 11/314 [00:30<14:18,  2.83s/it]"
     ]
    },
    {
     "name": "stdout",
     "output_type": "stream",
     "text": [
      "10    Overall, the situation is acceptable now that ...\n",
      "Name: modified_review, dtype: object\n",
      "1) Condominium Complex  \n",
      "2) The reviewer's experience is currently positive and sees improvements, but the review does not provide details on what specific changes have been made or why they are acceptable.\n",
      "\n",
      "\n",
      "1) Condominium Complex  \n",
      "2) The reviewer's experience is currently positive and sees improvements, but the review does not provide details on what specific changes have been made or why they are acceptable. | Labels: Negative\n"
     ]
    },
    {
     "name": "stderr",
     "output_type": "stream",
     "text": [
      "  4%|███                                                                              | 12/314 [00:33<14:03,  2.79s/it]"
     ]
    },
    {
     "name": "stdout",
     "output_type": "stream",
     "text": [
      "11    People harashing girls in metro no safety on r...\n",
      "Name: modified_review, dtype: object\n",
      "1) Railway Station  \n",
      "2) The review is negative and describes a concerning incident of harassment in the metro station.\n",
      "\n",
      "\n",
      "1) Railway Station  \n",
      "2) The review is negative and describes a concerning incident of harassment in the metro station. | Labels: Negative, Sarcastic\n"
     ]
    },
    {
     "name": "stderr",
     "output_type": "stream",
     "text": [
      "  4%|███▎                                                                             | 13/314 [00:35<13:39,  2.72s/it]"
     ]
    },
    {
     "name": "stdout",
     "output_type": "stream",
     "text": [
      "12    Discrimination against gym-going people. 8 out...\n",
      "Name: modified_review, dtype: object\n",
      "1) Transportation Service  \n",
      "2) The reviewer discriminates against gym-going people.\n",
      "\n",
      "\n",
      "1) Transportation Service  \n",
      "2) The reviewer discriminates against gym-going people. | Labels: Negative, Sarcastic\n"
     ]
    },
    {
     "name": "stderr",
     "output_type": "stream",
     "text": [
      "  4%|███▌                                                                             | 14/314 [00:38<14:01,  2.80s/it]"
     ]
    },
    {
     "name": "stdout",
     "output_type": "stream",
     "text": [
      "13    Real surprises, EXIT OUT TOWARDS THE BENDEMEER...\n",
      "Name: modified_review, dtype: object\n",
      "1) Railway Station\n",
      "2) The review does not provide relevant information about the railway station itself, and it seems that the reviewer did not visit the location before. It appears to be an irrelevant review.\n",
      "\n",
      "\n",
      "1) Railway Station\n",
      "2) The review does not provide relevant information about the railway station itself, and it seems that the reviewer did not visit the location before. It appears to be an irrelevant review. | Labels: Negative, Irrelevant\n"
     ]
    },
    {
     "name": "stderr",
     "output_type": "stream",
     "text": [
      "  5%|███▊                                                                             | 15/314 [00:41<14:03,  2.82s/it]"
     ]
    },
    {
     "name": "stdout",
     "output_type": "stream",
     "text": [
      "14    MRT was worst and the train was pack of people...\n",
      "Name: modified_review, dtype: object\n",
      "1) Subway Station  \n",
      "2) The reviewer had a negative experience with the subway station, specifically mentioning that it was the worst among many options and that the trains were overcrowded.\n",
      "\n",
      "\n",
      "1) Subway Station  \n",
      "2) The reviewer had a negative experience with the subway station, specifically mentioning that it was the worst among many options and that the trains were overcrowded. | Labels: Negative\n"
     ]
    },
    {
     "name": "stderr",
     "output_type": "stream",
     "text": [
      "  5%|████▏                                                                            | 16/314 [00:44<13:48,  2.78s/it]"
     ]
    },
    {
     "name": "stdout",
     "output_type": "stream",
     "text": [
      "15    signage and directions there are unclear. i we...\n",
      "Name: modified_review, dtype: object\n",
      "1) Subway Station\n",
      "2) The review discusses unclear signage and directions at the subway station which is relevant to the user's experience.\n",
      "\n",
      "\n",
      "1) Subway Station\n",
      "2) The review discusses unclear signage and directions at the subway station which is relevant to the user's experience. | Labels: Neutral\n"
     ]
    },
    {
     "name": "stderr",
     "output_type": "stream",
     "text": [
      "  5%|████▍                                                                            | 17/314 [00:47<13:42,  2.77s/it]"
     ]
    },
    {
     "name": "stdout",
     "output_type": "stream",
     "text": [
      "16    I felt slightly inconvenienced this morning wh...\n",
      "Name: modified_review, dtype: object\n",
      "1) Railway Station\n",
      "2) The reviewer mentions feeling slightly inconvenienced this morning, which is a negative experience.\n",
      "\n",
      "\n",
      "1) Railway Station\n",
      "2) The reviewer mentions feeling slightly inconvenienced this morning, which is a negative experience. | Labels: Negative\n"
     ]
    },
    {
     "name": "stderr",
     "output_type": "stream",
     "text": [
      "  6%|████▋                                                                            | 18/314 [00:50<13:45,  2.79s/it]"
     ]
    },
    {
     "name": "stdout",
     "output_type": "stream",
     "text": [
      "17    Nice decorations that I really enjoy looking a...\n",
      "Name: modified_review, dtype: object\n",
      "1) Shopping Mall  \n",
      "2) The review mentions nice decorations, but does not provide further details about the shopping mall's services or customer experience.\n",
      "\n",
      "\n",
      "1) Shopping Mall  \n",
      "2) The review mentions nice decorations, but does not provide further details about the shopping mall's services or customer experience. | Labels: Negative, Sarcastic, Irrelevant\n"
     ]
    },
    {
     "name": "stderr",
     "output_type": "stream",
     "text": [
      "  6%|████▉                                                                            | 19/314 [00:52<13:29,  2.74s/it]"
     ]
    },
    {
     "name": "stdout",
     "output_type": "stream",
     "text": [
      "18    I topped up for one team lessons (+$13/LESSON)...\n",
      "Name: modified_review, dtype: object\n",
      "1) Driving School\n",
      "2) The reviewer discusses topping up for lessons and mentions a specific price increment.\n",
      "\n",
      "\n",
      "1) Driving School\n",
      "2) The reviewer discusses topping up for lessons and mentions a specific price increment. | Labels: Negative\n"
     ]
    },
    {
     "name": "stderr",
     "output_type": "stream",
     "text": [
      "  6%|█████▏                                                                           | 20/314 [00:55<13:53,  2.84s/it]"
     ]
    },
    {
     "name": "stdout",
     "output_type": "stream",
     "text": [
      "19    Totally no cash payment. Kids went to buy thin...\n",
      "Name: modified_review, dtype: object\n",
      "1) Sporting goods store\n",
      "2) The review discusses a policy about cash payments and kids buying certain items, which seems advertisement-like as it promotes the store's cashless policy and the specific item being purchased by kids.\n",
      "\n",
      "\n",
      "1) Sporting goods store\n",
      "2) The review discusses a policy about cash payments and kids buying certain items, which seems advertisement-like as it promotes the store's cashless policy and the specific item being purchased by kids. | Labels: Negative\n"
     ]
    },
    {
     "name": "stderr",
     "output_type": "stream",
     "text": [
      "  7%|█████▍                                                                           | 21/314 [00:58<13:35,  2.78s/it]"
     ]
    },
    {
     "name": "stdout",
     "output_type": "stream",
     "text": [
      "20    [DONT RENT HERE] One of the shop with monopoly...\n",
      "Name: modified_review, dtype: object\n",
      "1) Bicycle Rental Service  \n",
      "2) The reviewer strongly advises against renting a bicycle from this service due to monopoly practices.\n",
      "\n",
      "\n",
      "1) Bicycle Rental Service  \n",
      "2) The reviewer strongly advises against renting a bicycle from this service due to monopoly practices. | Labels: Negative\n"
     ]
    },
    {
     "name": "stderr",
     "output_type": "stream",
     "text": [
      "  7%|█████▋                                                                           | 22/314 [01:01<13:29,  2.77s/it]"
     ]
    },
    {
     "name": "stdout",
     "output_type": "stream",
     "text": [
      "21    Realized that recently there are many pet owne...\n",
      "Name: modified_review, dtype: object\n",
      "1) Shopping Mall\n",
      "2) The reviewer at category_name discovered an issue with a high number of pets owned by people visiting the shopping mall.\n",
      "\n",
      "\n",
      "1) Shopping Mall\n",
      "2) The reviewer at category_name discovered an issue with a high number of pets owned by people visiting the shopping mall. | Labels: Negative, Irrelevant\n"
     ]
    },
    {
     "name": "stderr",
     "output_type": "stream",
     "text": [
      "  7%|█████▉                                                                           | 23/314 [01:03<13:22,  2.76s/it]"
     ]
    },
    {
     "name": "stdout",
     "output_type": "stream",
     "text": [
      "22    Steep slope into the carpark, missing signs fo...\n",
      "Name: modified_review, dtype: object\n",
      "1) Business Center  \n",
      "2) The review discusses a negative experience with steep slope and missing signs in the business center carpark.\n",
      "\n",
      "\n",
      "1) Business Center  \n",
      "2) The review discusses a negative experience with steep slope and missing signs in the business center carpark. | Labels: Positive, Sarcastic\n"
     ]
    },
    {
     "name": "stderr",
     "output_type": "stream",
     "text": [
      "  8%|██████▏                                                                          | 24/314 [01:06<13:28,  2.79s/it]"
     ]
    },
    {
     "name": "stdout",
     "output_type": "stream",
     "text": [
      "23    On 29 Jan 2025, 1448h, the door closed unexpec...\n",
      "Name: modified_review, dtype: object\n",
      "1) Transportation Service \n",
      "2) The reviewer had a negative experience with the door closing unexpectedly on January 29, 2025, at 14:48 hours.\n",
      "\n",
      "\n",
      "1) Transportation Service \n",
      "2) The reviewer had a negative experience with the door closing unexpectedly on January 29, 2025, at 14:48 hours. | Labels: Negative, Spam\n"
     ]
    },
    {
     "name": "stderr",
     "output_type": "stream",
     "text": [
      "  8%|██████▍                                                                          | 25/314 [01:09<13:10,  2.74s/it]"
     ]
    },
    {
     "name": "stdout",
     "output_type": "stream",
     "text": [
      "24    The location is great and housekeeping team do...\n",
      "Name: modified_review, dtype: object\n",
      "1) Hotel\n",
      "2) The reviewer mentions that the hotel's housekeeping team does a good job.\n",
      "\n",
      "\n",
      "1) Hotel\n",
      "2) The reviewer mentions that the hotel's housekeeping team does a good job. | Labels: Positive\n"
     ]
    },
    {
     "name": "stderr",
     "output_type": "stream",
     "text": [
      "  8%|██████▋                                                                          | 26/314 [01:12<13:08,  2.74s/it]"
     ]
    },
    {
     "name": "stdout",
     "output_type": "stream",
     "text": [
      "25    I try to avoid eating at Hong Lim because of t...\n",
      "Name: modified_review, dtype: object\n",
      "1) Hawker Center  \n",
      "2) The reviewer mentions they try to avoid eating at Hong Lim Hawker Center due to past issues.\n",
      "\n",
      "\n",
      "1) Hawker Center  \n",
      "2) The reviewer mentions they try to avoid eating at Hong Lim Hawker Center due to past issues. | Labels: Negative\n"
     ]
    },
    {
     "name": "stderr",
     "output_type": "stream",
     "text": [
      "  9%|██████▉                                                                          | 27/314 [01:15<13:18,  2.78s/it]"
     ]
    },
    {
     "name": "stdout",
     "output_type": "stream",
     "text": [
      "26    The carpark is ridiculous, no indication of it...\n",
      "Name: modified_review, dtype: object\n",
      "1) Shopping Mall  \n",
      "2) The reviewer found the carpark to be \"ridiculous\" and had a negative experience due to lack of information about it.\n",
      "\n",
      "\n",
      "1) Shopping Mall  \n",
      "2) The reviewer found the carpark to be \"ridiculous\" and had a negative experience due to lack of information about it. | Labels: Negative, Irrelevant\n"
     ]
    },
    {
     "name": "stderr",
     "output_type": "stream",
     "text": [
      "  9%|███████▏                                                                         | 28/314 [01:17<13:08,  2.76s/it]"
     ]
    },
    {
     "name": "stdout",
     "output_type": "stream",
     "text": [
      "27    The management of Kinex Mall is really disappo...\n",
      "Name: modified_review, dtype: object\n",
      "1) Shopping Mall\n",
      "2) The review discusses a negative experience with the management of Kinex Mall due to being disappointed.\n",
      "\n",
      "\n",
      "1) Shopping Mall\n",
      "2) The review discusses a negative experience with the management of Kinex Mall due to being disappointed. | Labels: Negative, Irrelevant\n"
     ]
    },
    {
     "name": "stderr",
     "output_type": "stream",
     "text": [
      "  9%|███████▍                                                                         | 29/314 [01:20<13:13,  2.78s/it]"
     ]
    },
    {
     "name": "stdout",
     "output_type": "stream",
     "text": [
      "28    The 2 ladies at the ticket counter and the inf...\n",
      "Name: modified_review, dtype: object\n",
      "1) Transportation Service  \n",
      "2) The reviewer is discussing a specific incident involving two ladies at the ticket counter and an issue with the information (infrastructure) on the vehicle.\n",
      "\n",
      "\n",
      "1) Transportation Service  \n",
      "2) The reviewer is discussing a specific incident involving two ladies at the ticket counter and an issue with the information (infrastructure) on the vehicle. | Labels: Negative\n"
     ]
    },
    {
     "name": "stderr",
     "output_type": "stream",
     "text": [
      " 10%|███████▋                                                                         | 30/314 [01:23<13:12,  2.79s/it]"
     ]
    },
    {
     "name": "stdout",
     "output_type": "stream",
     "text": [
      "29    PUB needs to take measures to ensure the safet...\n",
      "Name: modified_review, dtype: object\n",
      "1) Picnic Ground\n",
      "2) The reviewer is concerned about safety issues at a pub (not a picnic ground), which is irrelevant to the picnic ground experience.\n",
      "\n",
      "\n",
      "1) Picnic Ground\n",
      "2) The reviewer is concerned about safety issues at a pub (not a picnic ground), which is irrelevant to the picnic ground experience. | Labels: Negative\n"
     ]
    },
    {
     "name": "stderr",
     "output_type": "stream",
     "text": [
      " 10%|███████▉                                                                         | 31/314 [01:26<13:00,  2.76s/it]"
     ]
    },
    {
     "name": "stdout",
     "output_type": "stream",
     "text": [
      "30    Very rude staff. At the entrance a staff membe...\n",
      "Name: modified_review, dtype: object\n",
      "1) Casino  \n",
      "2) The reviewer had a negative experience with very rude staff at the casino's entrance.\n",
      "\n",
      "\n",
      "1) Casino  \n",
      "2) The reviewer had a negative experience with very rude staff at the casino's entrance. | Labels: Negative, Irrelevant\n"
     ]
    },
    {
     "name": "stderr",
     "output_type": "stream",
     "text": [
      " 10%|████████▎                                                                        | 32/314 [01:28<13:07,  2.79s/it]"
     ]
    },
    {
     "name": "stdout",
     "output_type": "stream",
     "text": [
      "31    At Wings of Art 2025, which runs from Jun 25 t...\n",
      "Name: modified_review, dtype: object\n",
      "1) Shopping Mall  \n",
      "2) The review discusses an upcoming event at Wings of Art 2025 and a location within the shopping mall without providing details about the shopping mall experience itself.\n",
      "\n",
      "\n",
      "1) Shopping Mall  \n",
      "2) The review discusses an upcoming event at Wings of Art 2025 and a location within the shopping mall without providing details about the shopping mall experience itself. | Labels: Negative, Irrelevant\n"
     ]
    },
    {
     "name": "stderr",
     "output_type": "stream",
     "text": [
      " 11%|████████▌                                                                        | 33/314 [01:31<13:12,  2.82s/it]"
     ]
    },
    {
     "name": "stdout",
     "output_type": "stream",
     "text": [
      "32    when i was around 6-7 years old, i have met a ...\n",
      "Name: modified_review, dtype: object\n",
      "1) Recreation Center\n",
      "2) The reviewer does not visit the recreation center and shares an anecdote from their childhood, which is irrelevant to the current experience of the recreation center.\n",
      "\n",
      "\n",
      "1) Recreation Center\n",
      "2) The reviewer does not visit the recreation center and shares an anecdote from their childhood, which is irrelevant to the current experience of the recreation center. | Labels: Negative\n"
     ]
    },
    {
     "name": "stderr",
     "output_type": "stream",
     "text": [
      " 11%|████████▊                                                                        | 34/314 [01:34<13:01,  2.79s/it]"
     ]
    },
    {
     "name": "stdout",
     "output_type": "stream",
     "text": [
      "33    Probably could do something to improve the sit...\n",
      "Name: modified_review, dtype: object\n",
      "1) Railway Services\n",
      "2) The reviewer mentions a possible opportunity for improvement at the railway services, but no specific details are provided.\n",
      "\n",
      "\n",
      "1) Railway Services\n",
      "2) The reviewer mentions a possible opportunity for improvement at the railway services, but no specific details are provided. | Labels: Negative\n"
     ]
    },
    {
     "name": "stderr",
     "output_type": "stream",
     "text": [
      " 11%|█████████                                                                        | 35/314 [01:37<13:06,  2.82s/it]"
     ]
    },
    {
     "name": "stdout",
     "output_type": "stream",
     "text": [
      "34    I stayed at this so-called 5-star hotel and wa...\n",
      "Name: modified_review, dtype: object\n",
      "1) Hotel\n",
      "2) The reviewer had a negative experience with the hotel they stayed at, stating it was a \"so-called 5-star\" that did not meet their expectations.\n",
      "\n",
      "\n",
      "1) Hotel\n",
      "2) The reviewer had a negative experience with the hotel they stayed at, stating it was a \"so-called 5-star\" that did not meet their expectations. | Labels: Negative, Irrelevant\n"
     ]
    },
    {
     "name": "stderr",
     "output_type": "stream",
     "text": [
      " 11%|█████████▎                                                                       | 36/314 [01:40<12:44,  2.75s/it]"
     ]
    },
    {
     "name": "stdout",
     "output_type": "stream",
     "text": [
      "35    If you are renting any units here. Please stay...\n",
      "Name: modified_review, dtype: object\n",
      "1) Corporate Office\n",
      "2) The reviewer is warning potential renters to stay away from the corporate office.\n",
      "\n",
      "\n",
      "1) Corporate Office\n",
      "2) The reviewer is warning potential renters to stay away from the corporate office. | Labels: Negative\n"
     ]
    },
    {
     "name": "stderr",
     "output_type": "stream",
     "text": [
      " 12%|█████████▌                                                                       | 37/314 [01:42<12:49,  2.78s/it]"
     ]
    },
    {
     "name": "stdout",
     "output_type": "stream",
     "text": [
      "36    Ever since people started living here last yea...\n",
      "Name: modified_review, dtype: object\n",
      "1) Condominium Complex\n",
      "2) The reviewer does not visit the condominium complex as they talk about a past event, but it's unclear what year that is.\n",
      "\n",
      "\n",
      "1) Condominium Complex\n",
      "2) The reviewer does not visit the condominium complex as they talk about a past event, but it's unclear what year that is. | Labels: Negative\n"
     ]
    },
    {
     "name": "stderr",
     "output_type": "stream",
     "text": [
      " 12%|█████████▊                                                                       | 38/314 [01:45<12:30,  2.72s/it]"
     ]
    },
    {
     "name": "stdout",
     "output_type": "stream",
     "text": [
      "37    Will scam you on the bill.\\n\\n1 guinness adver...\n",
      "Name: modified_review, dtype: object\n",
      "1) Club\n",
      "2) The reviewer warns that the club will scam customers on their bills.\n",
      "\n",
      "\n",
      "1) Club\n",
      "2) The reviewer warns that the club will scam customers on their bills. | Labels: Negative, Irrelevant\n"
     ]
    },
    {
     "name": "stderr",
     "output_type": "stream",
     "text": [
      " 12%|██████████                                                                       | 39/314 [01:48<12:22,  2.70s/it]"
     ]
    },
    {
     "name": "stdout",
     "output_type": "stream",
     "text": [
      "38    Our recent visit to the Casino at Sentosa was ...\n",
      "Name: modified_review, dtype: object\n",
      "1) Casino  \n",
      "2) The reviewer had a negative experience with their recent visit to the Casino at Sentosa.\n",
      "\n",
      "\n",
      "1) Casino  \n",
      "2) The reviewer had a negative experience with their recent visit to the Casino at Sentosa. | Labels: Negative, Irrelevant\n"
     ]
    },
    {
     "name": "stderr",
     "output_type": "stream",
     "text": [
      " 13%|██████████▎                                                                      | 40/314 [01:50<12:19,  2.70s/it]"
     ]
    },
    {
     "name": "stdout",
     "output_type": "stream",
     "text": [
      "39    So worse experience for the membership applica...\n",
      "Name: modified_review, dtype: object\n",
      "1) Casino\n",
      "2) The reviewer had a negative experience with their membership application process at casino 39.\n",
      "\n",
      "\n",
      "1) Casino\n",
      "2) The reviewer had a negative experience with their membership application process at casino 39. | Labels: Negative, Irrelevant\n"
     ]
    },
    {
     "name": "stderr",
     "output_type": "stream",
     "text": [
      " 13%|██████████▌                                                                      | 41/314 [01:53<12:32,  2.76s/it]"
     ]
    },
    {
     "name": "stdout",
     "output_type": "stream",
     "text": [
      "40    Come enjoy the crowd! Be loved. Be touched. Sm...\n",
      "Name: modified_review, dtype: object\n",
      "1) Subway Station  \n",
      "2) The review is advertisement-like and sounds overly promotional, mentioning to \"enjoy the crowd\" and being \"loved\" or \"touched\".\n",
      "\n",
      "\n",
      "1) Subway Station  \n",
      "2) The review is advertisement-like and sounds overly promotional, mentioning to \"enjoy the crowd\" and being \"loved\" or \"touched\". | Labels: Positive, Irrelevant\n"
     ]
    },
    {
     "name": "stderr",
     "output_type": "stream",
     "text": [
      " 13%|██████████▊                                                                      | 42/314 [01:56<12:34,  2.77s/it]"
     ]
    },
    {
     "name": "stdout",
     "output_type": "stream",
     "text": [
      "41    Biggest tourist rip-off anywhere. Not worth th...\n",
      "Name: modified_review, dtype: object\n",
      "1) Mountain Cable Car\n",
      "2) The reviewer calls the mountain cable car a \"tourist rip-off\" and states it is not worth their time.\n",
      "\n",
      "\n",
      "1) Mountain Cable Car\n",
      "2) The reviewer calls the mountain cable car a \"tourist rip-off\" and states it is not worth their time. | Labels: Neutral\n"
     ]
    },
    {
     "name": "stderr",
     "output_type": "stream",
     "text": [
      " 14%|███████████                                                                      | 43/314 [01:59<12:19,  2.73s/it]"
     ]
    },
    {
     "name": "stdout",
     "output_type": "stream",
     "text": [
      "42    seems like a discriminative club to me persona...\n",
      "Name: modified_review, dtype: object\n",
      "1) Social club  \n",
      "2) The reviewer finds the social club discriminatory based on their personal experience.\n",
      "\n",
      "\n",
      "1) Social club  \n",
      "2) The reviewer finds the social club discriminatory based on their personal experience. | Labels: Neutral\n"
     ]
    },
    {
     "name": "stderr",
     "output_type": "stream",
     "text": [
      " 14%|███████████▎                                                                     | 44/314 [02:01<12:20,  2.74s/it]"
     ]
    },
    {
     "name": "stdout",
     "output_type": "stream",
     "text": [
      "43    Considering Singapore is touted as being clean...\n",
      "Name: modified_review, dtype: object\n",
      "1) Mosque\n",
      "2) The reviewer mentions Singapore's cleanliness, but does not provide any personal experience or description of the mosque itself.\n",
      "\n",
      "\n",
      "1) Mosque\n",
      "2) The reviewer mentions Singapore's cleanliness, but does not provide any personal experience or description of the mosque itself. | Labels: Negative\n"
     ]
    },
    {
     "name": "stderr",
     "output_type": "stream",
     "text": [
      " 14%|███████████▌                                                                     | 45/314 [02:04<12:18,  2.75s/it]"
     ]
    },
    {
     "name": "stdout",
     "output_type": "stream",
     "text": [
      "44    Security officer is unappreciated by their sup...\n",
      "Name: modified_review, dtype: object\n",
      "1) Association/Organization \n",
      "2) The reviewer mentions that a security officer at the association is underappreciated.\n",
      "\n",
      "\n",
      "1) Association/Organization \n",
      "2) The reviewer mentions that a security officer at the association is underappreciated. | Labels: Negative, Irrelevant\n"
     ]
    },
    {
     "name": "stderr",
     "output_type": "stream",
     "text": [
      " 15%|███████████▊                                                                     | 46/314 [02:07<12:32,  2.81s/it]"
     ]
    },
    {
     "name": "stdout",
     "output_type": "stream",
     "text": [
      "45    Mall is always hot. Aircon is like turned down...\n",
      "Name: modified_review, dtype: object\n",
      "1) Shopping Mall  \n",
      "2) The review discusses a negative experience with the shopping mall due to its high temperature and malfunctioning air conditioning system (\"Aircon is like turned down...\").\n",
      "\n",
      "\n",
      "1) Shopping Mall  \n",
      "2) The review discusses a negative experience with the shopping mall due to its high temperature and malfunctioning air conditioning system (\"Aircon is like turned down...\"). | Labels: Negative, Irrelevant\n"
     ]
    },
    {
     "name": "stderr",
     "output_type": "stream",
     "text": [
      " 15%|████████████                                                                     | 47/314 [02:10<12:30,  2.81s/it]"
     ]
    },
    {
     "name": "stdout",
     "output_type": "stream",
     "text": [
      "46    The clinic scheduled an appointment with us de...\n",
      "Name: modified_review, dtype: object\n",
      "1) Walk-in Clinic  \n",
      "2) The reviewer does not mention any details about their experience at the walk-in clinic. It is irrelevant as no specific information is given about their visit.\n",
      "\n",
      "\n",
      "1) Walk-in Clinic  \n",
      "2) The reviewer does not mention any details about their experience at the walk-in clinic. It is irrelevant as no specific information is given about their visit. | Labels: Negative\n"
     ]
    },
    {
     "name": "stderr",
     "output_type": "stream",
     "text": [
      " 15%|████████████▍                                                                    | 48/314 [02:13<12:12,  2.75s/it]"
     ]
    },
    {
     "name": "stdout",
     "output_type": "stream",
     "text": [
      "47    I am writing to formally raise an issue that I...\n",
      "Name: modified_review, dtype: object\n",
      "1) Shopping Mall  \n",
      "2) The reviewer is raising a formal issue about their experience at the shopping mall.\n",
      "\n",
      "\n",
      "1) Shopping Mall  \n",
      "2) The reviewer is raising a formal issue about their experience at the shopping mall. | Labels: Negative, Irrelevant\n"
     ]
    },
    {
     "name": "stderr",
     "output_type": "stream",
     "text": [
      " 16%|████████████▋                                                                    | 49/314 [02:15<12:00,  2.72s/it]"
     ]
    },
    {
     "name": "stdout",
     "output_type": "stream",
     "text": [
      "48    There is blood on the bed sheet.high risk for ...\n",
      "Name: modified_review, dtype: object\n",
      "1) Hotel\n",
      "2) The reviewer found blood on the bed sheet and considers it a high-risk factor.\n",
      "\n",
      "\n",
      "1) Hotel\n",
      "2) The reviewer found blood on the bed sheet and considers it a high-risk factor. | Labels: Negative, Irrelevant\n"
     ]
    },
    {
     "name": "stderr",
     "output_type": "stream",
     "text": [
      " 16%|████████████▉                                                                    | 50/314 [02:18<12:06,  2.75s/it]"
     ]
    },
    {
     "name": "stdout",
     "output_type": "stream",
     "text": [
      "49    A few VJC ladies bullying my hyperactive child...\n",
      "Name: modified_review, dtype: object\n",
      "1) Junior College\n",
      "2) The reviewer is experiencing negative behavior from some VJC (Victoria Junior College) students towards their child, specifically bullying.\n",
      "\n",
      "\n",
      "1) Junior College\n",
      "2) The reviewer is experiencing negative behavior from some VJC (Victoria Junior College) students towards their child, specifically bullying. | Labels: Negative\n"
     ]
    },
    {
     "name": "stderr",
     "output_type": "stream",
     "text": [
      " 16%|█████████████▏                                                                   | 51/314 [02:21<12:09,  2.78s/it]"
     ]
    },
    {
     "name": "stdout",
     "output_type": "stream",
     "text": [
      "50    Caltex new free service to polish your car!!!!...\n",
      "Name: modified_review, dtype: object\n",
      "1) Gas Station\n",
      "2) The review is advertisement-like and sounds promotional for the Caltex gas station's new free service to polish cars.\n",
      "\n",
      "\n",
      "1) Gas Station\n",
      "2) The review is advertisement-like and sounds promotional for the Caltex gas station's new free service to polish cars. | Labels: Positive, Spam, Sarcastic\n"
     ]
    },
    {
     "name": "stderr",
     "output_type": "stream",
     "text": [
      " 17%|█████████████▍                                                                   | 52/314 [02:24<12:00,  2.75s/it]"
     ]
    },
    {
     "name": "stdout",
     "output_type": "stream",
     "text": [
      "51    Instruction not given at the steps of the wave...\n",
      "Name: modified_review, dtype: object\n",
      "1) Bridge\n",
      "2) The review discusses technical instructions for a bridge, which are irrelevant to a visitor's experience.\n",
      "\n",
      "\n",
      "1) Bridge\n",
      "2) The review discusses technical instructions for a bridge, which are irrelevant to a visitor's experience. | Labels: Neutral, Spam, Irrelevant\n"
     ]
    },
    {
     "name": "stderr",
     "output_type": "stream",
     "text": [
      " 17%|█████████████▋                                                                   | 53/314 [02:26<11:42,  2.69s/it]"
     ]
    },
    {
     "name": "stdout",
     "output_type": "stream",
     "text": [
      "52    Bought the promotional Tasty Bites crispy popc...\n",
      "Name: modified_review, dtype: object\n",
      "1) Supermarket  \n",
      "2) The reviewer bought promotional products from the supermarket.\n",
      "\n",
      "\n",
      "1) Supermarket  \n",
      "2) The reviewer bought promotional products from the supermarket. | Labels: Negative\n"
     ]
    },
    {
     "name": "stderr",
     "output_type": "stream",
     "text": [
      " 17%|█████████████▉                                                                   | 54/314 [02:29<11:34,  2.67s/it]"
     ]
    },
    {
     "name": "stdout",
     "output_type": "stream",
     "text": [
      "53    Parking is very challenging as the mall has pr...\n",
      "Name: modified_review, dtype: object\n",
      "1) Shopping Mall  \n",
      "2) The reviewer had a negative experience with parking at the shopping mall.\n",
      "\n",
      "\n",
      "1) Shopping Mall  \n",
      "2) The reviewer had a negative experience with parking at the shopping mall. | Labels: Negative\n"
     ]
    },
    {
     "name": "stderr",
     "output_type": "stream",
     "text": [
      " 18%|██████████████▏                                                                  | 55/314 [02:31<11:33,  2.68s/it]"
     ]
    },
    {
     "name": "stdout",
     "output_type": "stream",
     "text": [
      "54    No parking place Category: Port operating company\n",
      "Name: modified_review, dtype: object\n",
      "1) Port Operating Company  \n",
      "2) The review is irrelevant as it does not discuss any information about the port operating company itself.\n",
      "\n",
      "\n",
      "1) Port Operating Company  \n",
      "2) The review is irrelevant as it does not discuss any information about the port operating company itself. | Labels: Neutral, Irrelevant\n"
     ]
    },
    {
     "name": "stderr",
     "output_type": "stream",
     "text": [
      " 18%|██████████████▍                                                                  | 56/314 [02:34<11:39,  2.71s/it]"
     ]
    },
    {
     "name": "stdout",
     "output_type": "stream",
     "text": [
      "55    As tenant, not very accessible to the main roa...\n",
      "Name: modified_review, dtype: object\n",
      "1) Condominium Complex\n",
      "2) The review is irrelevant as it does not discuss the condominium complex itself but rather its accessibility.\n",
      "\n",
      "\n",
      "1) Condominium Complex\n",
      "2) The review is irrelevant as it does not discuss the condominium complex itself but rather its accessibility. | Labels: Negative\n"
     ]
    },
    {
     "name": "stderr",
     "output_type": "stream",
     "text": [
      " 18%|██████████████▋                                                                  | 57/314 [02:37<11:39,  2.72s/it]"
     ]
    },
    {
     "name": "stdout",
     "output_type": "stream",
     "text": [
      "56    Itâs very interesting how Thomson Plaza was ...\n",
      "Name: modified_review, dtype: object\n",
      "1) Shopping Mall\n",
      "2) The reviewer seems to have gone to the shopping mall and had a somewhat positive experience with it.\n",
      "\n",
      "\n",
      "1) Shopping Mall\n",
      "2) The reviewer seems to have gone to the shopping mall and had a somewhat positive experience with it. | Labels: Negative, Sarcastic\n"
     ]
    },
    {
     "name": "stderr",
     "output_type": "stream",
     "text": [
      " 18%|██████████████▉                                                                  | 58/314 [02:40<11:35,  2.72s/it]"
     ]
    },
    {
     "name": "stdout",
     "output_type": "stream",
     "text": [
      "57    Came to visit a friend new home. Beautiful new...\n",
      "Name: modified_review, dtype: object\n",
      "1) Condominium Complex\n",
      "2) The reviewer came to visit a friend's new home and described the place as beautiful with new amenities.\n",
      "\n",
      "\n",
      "1) Condominium Complex\n",
      "2) The reviewer came to visit a friend's new home and described the place as beautiful with new amenities. | Labels: Positive\n"
     ]
    },
    {
     "name": "stderr",
     "output_type": "stream",
     "text": [
      " 19%|███████████████▏                                                                 | 59/314 [02:42<11:38,  2.74s/it]"
     ]
    },
    {
     "name": "stdout",
     "output_type": "stream",
     "text": [
      "58    Great location and nice views (Sarcastic) Cate...\n",
      "Name: modified_review, dtype: object\n",
      "1) Condominium Complex\n",
      "2) The reviewer had a sarcastic comment about the great location and nice views of the condominium complex.\n",
      "\n",
      "\n",
      "1) Condominium Complex\n",
      "2) The reviewer had a sarcastic comment about the great location and nice views of the condominium complex. | Labels: Positive, Sarcastic\n"
     ]
    },
    {
     "name": "stderr",
     "output_type": "stream",
     "text": [
      " 19%|███████████████▍                                                                 | 60/314 [02:45<11:39,  2.75s/it]"
     ]
    },
    {
     "name": "stdout",
     "output_type": "stream",
     "text": [
      "59    A popular hawker centre since the 1970s, named...\n",
      "Name: modified_review, dtype: object\n",
      "1) Hawker Center\n",
      "2) The reviewer discusses a popular and old hawker center that has been in operation since the 1970s.\n",
      "\n",
      "\n",
      "1) Hawker Center\n",
      "2) The reviewer discusses a popular and old hawker center that has been in operation since the 1970s. | Labels: Positive\n"
     ]
    },
    {
     "name": "stderr",
     "output_type": "stream",
     "text": [
      " 19%|███████████████▋                                                                 | 61/314 [02:48<11:39,  2.76s/it]"
     ]
    },
    {
     "name": "stdout",
     "output_type": "stream",
     "text": [
      "60    Adam Food Centre is one of to go-to whenever I...\n",
      "Name: modified_review, dtype: object\n",
      "1) Hawker Center\n",
      "2) The reviewer had a positive experience with the center and considers it one of their go-to places.\n",
      "\n",
      "\n",
      "1) Hawker Center\n",
      "2) The reviewer had a positive experience with the center and considers it one of their go-to places. | Labels: Positive\n"
     ]
    },
    {
     "name": "stderr",
     "output_type": "stream",
     "text": [
      " 20%|███████████████▉                                                                 | 62/314 [02:51<11:52,  2.83s/it]"
     ]
    },
    {
     "name": "stdout",
     "output_type": "stream",
     "text": [
      "61    An absolute gem. âHeritageâ indeed, even w...\n",
      "Name: modified_review, dtype: object\n",
      "1) Hawker Center\n",
      "2) The reviewer finds the hawker center to be a \"gem\" and uses the term \"Heritage\", indicating they hold it in high regard.\n",
      "\n",
      "\n",
      "1) Hawker Center\n",
      "2) The reviewer finds the hawker center to be a \"gem\" and uses the term \"Heritage\", indicating they hold it in high regard. | Labels: Positive\n"
     ]
    },
    {
     "name": "stderr",
     "output_type": "stream",
     "text": [
      " 20%|████████████████▎                                                                | 63/314 [02:54<11:40,  2.79s/it]"
     ]
    },
    {
     "name": "stdout",
     "output_type": "stream",
     "text": [
      "62    A fantastic waterpark in Sentosa where you can...\n",
      "Name: modified_review, dtype: object\n",
      "1) Water Park  \n",
      "2) The reviewer describes the water park as \"fantastic\" and mentions its location in Sentosa.\n",
      "\n",
      "\n",
      "1) Water Park  \n",
      "2) The reviewer describes the water park as \"fantastic\" and mentions its location in Sentosa. | Labels: Positive\n"
     ]
    },
    {
     "name": "stderr",
     "output_type": "stream",
     "text": [
      " 20%|████████████████▌                                                                | 64/314 [02:56<11:17,  2.71s/it]"
     ]
    },
    {
     "name": "stdout",
     "output_type": "stream",
     "text": [
      "63    I was recently warded at Alexandra Hospital, B...\n",
      "Name: modified_review, dtype: object\n",
      "1) Hospital\n",
      "2) The reviewer was recently hospitalized at Alexandra Hospital.\n",
      "\n",
      "\n",
      "1) Hospital\n",
      "2) The reviewer was recently hospitalized at Alexandra Hospital. | Labels: Positive\n"
     ]
    },
    {
     "name": "stderr",
     "output_type": "stream",
     "text": [
      " 21%|████████████████▊                                                                | 65/314 [02:59<11:34,  2.79s/it]"
     ]
    },
    {
     "name": "stdout",
     "output_type": "stream",
     "text": [
      "64    I was warded into this hospital on Sep 2024 to...\n",
      "Name: modified_review, dtype: object\n",
      "1) Hospital\n",
      "2) The reviewer was warded at the hospital in September 2024, but the review is irrelevant as it does not describe their experience or provide any relevant information.\n",
      "\n",
      "\n",
      "1) Hospital\n",
      "2) The reviewer was warded at the hospital in September 2024, but the review is irrelevant as it does not describe their experience or provide any relevant information. | Labels: Positive\n"
     ]
    },
    {
     "name": "stderr",
     "output_type": "stream",
     "text": [
      " 21%|█████████████████                                                                | 66/314 [03:02<11:27,  2.77s/it]"
     ]
    },
    {
     "name": "stdout",
     "output_type": "stream",
     "text": [
      "65    Bustling MRT station in one of the most intere...\n",
      "Name: modified_review, dtype: object\n",
      "1) Subway Station\n",
      "2) The review discusses a bustling MRT station that is part of an interesting development project in Singapore.\n",
      "\n",
      "\n",
      "1) Subway Station\n",
      "2) The review discusses a bustling MRT station that is part of an interesting development project in Singapore. | Labels: Positive\n"
     ]
    },
    {
     "name": "stderr",
     "output_type": "stream",
     "text": [
      " 21%|█████████████████▎                                                               | 67/314 [03:05<11:14,  2.73s/it]"
     ]
    },
    {
     "name": "stdout",
     "output_type": "stream",
     "text": [
      "66    The place is clean, and the staff is very help...\n",
      "Name: modified_review, dtype: object\n",
      "1) Railway Station\n",
      "2) The reviewer mentioned that the railway station was clean and had helpful staff.\n",
      "\n",
      "\n",
      "1) Railway Station\n",
      "2) The reviewer mentioned that the railway station was clean and had helpful staff. | Labels: Positive\n"
     ]
    },
    {
     "name": "stderr",
     "output_type": "stream",
     "text": [
      " 22%|█████████████████▌                                                               | 68/314 [03:08<11:56,  2.91s/it]"
     ]
    },
    {
     "name": "stdout",
     "output_type": "stream",
     "text": [
      "67    The hotel staff demonstrated professionalism a...\n",
      "Name: modified_review, dtype: object\n",
      "Since the text you provided does not contain the actual review but rather some code snippets, I will assume that the actual review is hidden in the `modified_review` variable.\n",
      "\n",
      "Unfortunately, I don't have any information about what's in the `modified_review` variable. Could you please provide the actual review for me to work with?\n",
      "\n",
      "\n",
      "Since the text you provided does not contain the actual review but rather some code snippets, I will assume that the actual review is hidden in the `modified_review` variable.\n",
      "\n",
      "Unfortunately, I don't have any information about what's in the `modified_review` variable. Could you please provide the actual review for me to work with? | Labels: Positive\n"
     ]
    },
    {
     "name": "stderr",
     "output_type": "stream",
     "text": [
      " 22%|█████████████████▊                                                               | 69/314 [03:10<11:32,  2.83s/it]"
     ]
    },
    {
     "name": "stdout",
     "output_type": "stream",
     "text": [
      "68    Revisit Aperia Mall today and the vibes totall...\n",
      "Name: modified_review, dtype: object\n",
      "1) Shopping Mall\n",
      "2) The reviewer revisited Aperia Mall and had a negative experience with the vibes.\n",
      "\n",
      "\n",
      "1) Shopping Mall\n",
      "2) The reviewer revisited Aperia Mall and had a negative experience with the vibes. | Labels: Positive, Spam, Irrelevant\n"
     ]
    },
    {
     "name": "stderr",
     "output_type": "stream",
     "text": [
      " 22%|██████████████████                                                               | 70/314 [03:13<11:14,  2.76s/it]"
     ]
    },
    {
     "name": "stdout",
     "output_type": "stream",
     "text": [
      "69    One of my favorite Apple Stores ever!\\n\\nThe s...\n",
      "Name: modified_review, dtype: object\n",
      "1) Electronics Store\n",
      "2) The review sounds very promotional and advertisement-like for the Apple Store.\n",
      "\n",
      "\n",
      "1) Electronics Store\n",
      "2) The review sounds very promotional and advertisement-like for the Apple Store. | Labels: Positive\n"
     ]
    },
    {
     "name": "stderr",
     "output_type": "stream",
     "text": [
      " 23%|██████████████████▎                                                              | 71/314 [03:16<11:06,  2.74s/it]"
     ]
    },
    {
     "name": "stdout",
     "output_type": "stream",
     "text": [
      "70    I had an issue with my iPhone 16 Pro Max showi...\n",
      "Name: modified_review, dtype: object\n",
      "1) Electronics Store\n",
      "2) The reviewer is having a negative experience with their iPhone and mentions a specific issue with the device.\n",
      "\n",
      "\n",
      "1) Electronics Store\n",
      "2) The reviewer is having a negative experience with their iPhone and mentions a specific issue with the device. | Labels: Positive\n"
     ]
    },
    {
     "name": "stderr",
     "output_type": "stream",
     "text": [
      " 23%|██████████████████▌                                                              | 72/314 [03:19<11:17,  2.80s/it]"
     ]
    },
    {
     "name": "stdout",
     "output_type": "stream",
     "text": [
      "71    Great Condo, transportation is a breeze. Well ...\n",
      "Name: modified_review, dtype: object\n",
      "1) Condominium Complex  \n",
      "2) The reviewer describes their positive experience with the condominium complex, mentioning that transportation is convenient, but does not provide further details in this summary.\n",
      "\n",
      "\n",
      "1) Condominium Complex  \n",
      "2) The reviewer describes their positive experience with the condominium complex, mentioning that transportation is convenient, but does not provide further details in this summary. | Labels: Positive\n"
     ]
    },
    {
     "name": "stderr",
     "output_type": "stream",
     "text": [
      " 23%|██████████████████▊                                                              | 73/314 [03:22<11:19,  2.82s/it]"
     ]
    },
    {
     "name": "stdout",
     "output_type": "stream",
     "text": [
      "72    Bedok Reservoir is a bit understated compared ...\n",
      "Name: modified_review, dtype: object\n",
      "1) Condominium Complex  \n",
      "2) The reviewer finds the Bedok Reservoir area to be understated and does not elaborate further, making the review somewhat irrelevant.\n",
      "\n",
      "\n",
      "1) Condominium Complex  \n",
      "2) The reviewer finds the Bedok Reservoir area to be understated and does not elaborate further, making the review somewhat irrelevant. | Labels: Positive\n"
     ]
    },
    {
     "name": "stderr",
     "output_type": "stream",
     "text": [
      " 24%|███████████████████                                                              | 74/314 [03:24<11:19,  2.83s/it]"
     ]
    },
    {
     "name": "stdout",
     "output_type": "stream",
     "text": [
      "73    Archipelago is a well-rounded condominium that...\n",
      "Name: modified_review, dtype: object\n",
      "1) Condominium Complex\n",
      "2) The review discusses an informative fact about the condominium complex being called \"Archipelago\", which suggests it has some notable features or characteristics.\n",
      "\n",
      "\n",
      "1) Condominium Complex\n",
      "2) The review discusses an informative fact about the condominium complex being called \"Archipelago\", which suggests it has some notable features or characteristics. | Labels: Positive\n"
     ]
    },
    {
     "name": "stderr",
     "output_type": "stream",
     "text": [
      " 24%|███████████████████▎                                                             | 75/314 [03:27<11:05,  2.78s/it]"
     ]
    },
    {
     "name": "stdout",
     "output_type": "stream",
     "text": [
      "74    Cafe Football has always been my regular hango...\n",
      "Name: modified_review, dtype: object\n",
      "1) Cafe\n",
      "2) The review is irrelevant as it discusses personal habits and does not describe the cafe experience.\n",
      "\n",
      "\n",
      "1) Cafe\n",
      "2) The review is irrelevant as it discusses personal habits and does not describe the cafe experience. | Labels: Positive\n"
     ]
    },
    {
     "name": "stderr",
     "output_type": "stream",
     "text": [
      " 24%|███████████████████▌                                                             | 76/314 [03:30<11:09,  2.81s/it]"
     ]
    },
    {
     "name": "stdout",
     "output_type": "stream",
     "text": [
      "75    Nice atmosphere with a football theme.\\nFood p...\n",
      "Name: modified_review, dtype: object\n",
      "1) Restaurant  \n",
      "2) The reviewer describes the restaurant as having a nice atmosphere and a football theme, and mentions that the food is something they had to review.\n",
      "\n",
      "\n",
      "1) Restaurant  \n",
      "2) The reviewer describes the restaurant as having a nice atmosphere and a football theme, and mentions that the food is something they had to review. | Labels: Positive\n"
     ]
    },
    {
     "name": "stderr",
     "output_type": "stream",
     "text": [
      " 25%|███████████████████▊                                                             | 77/314 [03:33<11:05,  2.81s/it]"
     ]
    },
    {
     "name": "stdout",
     "output_type": "stream",
     "text": [
      "76    The ArtScience Museum gave me one of the most ...\n",
      "Name: modified_review, dtype: object\n",
      "1) Museum\n",
      "2) The reviewer had a positive experience with the museum, stating it provided them with one of the most memorable experiences.\n",
      "\n",
      "\n",
      "1) Museum\n",
      "2) The reviewer had a positive experience with the museum, stating it provided them with one of the most memorable experiences. | Labels: Positive\n"
     ]
    },
    {
     "name": "stderr",
     "output_type": "stream",
     "text": [
      " 25%|████████████████████                                                             | 78/314 [03:36<11:07,  2.83s/it]"
     ]
    },
    {
     "name": "stdout",
     "output_type": "stream",
     "text": [
      "77    While planning my trip to Singapore, I heard a...\n",
      "Name: modified_review, dtype: object\n",
      "1) Museum\n",
      "2) The reviewer mentions that they heard about the museum while planning their trip to Singapore but does not provide any personal experience or information about the museum itself.\n",
      "\n",
      "\n",
      "1) Museum\n",
      "2) The reviewer mentions that they heard about the museum while planning their trip to Singapore but does not provide any personal experience or information about the museum itself. | Labels: Positive\n"
     ]
    },
    {
     "name": "stderr",
     "output_type": "stream",
     "text": [
      " 25%|████████████████████▍                                                            | 79/314 [03:38<10:59,  2.81s/it]"
     ]
    },
    {
     "name": "stdout",
     "output_type": "stream",
     "text": [
      "78    Great food. It was packed. The seating and amb...\n",
      "Name: modified_review, dtype: object\n",
      "1) Cafe\n",
      "2) The reviewer had a positive experience with great food at a busy cafe with good seating and amenities.\n",
      "\n",
      "\n",
      "1) Cafe\n",
      "2) The reviewer had a positive experience with great food at a busy cafe with good seating and amenities. | Labels: Positive\n"
     ]
    }
   ],
   "source": [
    "import pandas as pd\n",
    "from tqdm import tqdm\n",
    "\n",
    "# Config\n",
    "batch_size = 1  # number of reviews per batch\n",
    "\n",
    "# Load CSV\n",
    "df = pd.read_csv(\"processed_reviews1.csv\")\n",
    "\n",
    "# Function to build modified review text\n",
    "def build_modified_review(row):\n",
    "    text = row['preprocessed_review']\n",
    "\n",
    "    # Add sarcasm hint\n",
    "    if row.get('sarcasm_label_') == \"Sarcastic\":\n",
    "        text += \" (Sarcastic)\"\n",
    "\n",
    "    text += f\" Category: {row.get('categoryName', 'Unknown')}\"\n",
    "\n",
    "    return text\n",
    "\n",
    "# Function to append labels to summary\n",
    "def append_labels(row, summary):\n",
    "    labels = []\n",
    "\n",
    "    if row.get('sentiment_label_'):\n",
    "        labels.append(row['sentiment_label_'])\n",
    "\n",
    "    if row.get('spam_label_') == \"Spam\":\n",
    "        labels.append(\"Spam\")\n",
    "\n",
    "    if row.get('sarcasm_label_') == \"Sarcastic\":\n",
    "        labels.append(\"Sarcastic\")\n",
    "\n",
    "    if row.get('relevance_label') == \"Not Relevant\":\n",
    "        labels.append(\"Irrelevant\")\n",
    "\n",
    "    if labels:\n",
    "        return summary + \" | Labels: \" + \", \".join(labels)\n",
    "    return summary\n",
    "\n",
    "# Build modified reviews column\n",
    "df['modified_review'] = df.apply(build_modified_review, axis=1)\n",
    "\n",
    "# Summarize in batches\n",
    "all_summaries = []\n",
    "\n",
    "for i in tqdm(range(0, len(df), batch_size)):\n",
    "    batch = df.iloc[i:i+batch_size]\n",
    "\n",
    "    # Prepare batch lists\n",
    "    batch_texts = batch['modified_review']#.tolist() since batch size = 1 we dont neeed list\n",
    "    batch_categories = batch['categoryName']#.tolist()\n",
    "\n",
    "    # Summarize all reviews in the batch at once (if supported)\n",
    "    batch_summaries = ollama_summarize(batch_texts, batch_categories)\n",
    "    print(batch_texts)\n",
    "    print(batch_summaries)\n",
    "    print(\"\\n\")\n",
    "\n",
    "    # Append labels to each summary\n",
    "    for j, row in batch.iterrows():\n",
    "        summary_with_labels = append_labels(row, batch_summaries)\n",
    "        print(summary_with_labels)\n",
    "        all_summaries.append(summary_with_labels)\n",
    "\n",
    "# Add final summaries to dataframe\n",
    "df['summary'] = all_summaries\n",
    "\n",
    "# Save to a new CSV\n",
    "df.to_csv(\"processed_reviews2.csv\", index=False)\n",
    "\n",
    "print(\"Summarization complete! Saved to processed_reviews.csv\")\n",
    "\n"
   ]
  },
  {
   "cell_type": "markdown",
   "id": "1f9013c3-021a-4d8f-b9db-63ccf52b744e",
   "metadata": {},
   "source": [
    "# Cosine Similarity Algorithm"
   ]
  },
  {
   "cell_type": "code",
   "execution_count": null,
   "id": "7947d424-b9ba-4d82-9fe0-23eddc19ada8",
   "metadata": {},
   "outputs": [],
   "source": [
    "from sentence_transformers import SentenceTransformer\n",
    "import numpy as np\n",
    "from sklearn.metrics.pairwise import cosine_similarity\n",
    "\n",
    "model = SentenceTransformer('paraphrase-MiniLM-L6-v2')\n",
    "\n",
    "def compute_relatedness_local(review_text,type_context):\n",
    "    # Create enhanced description\n",
    "    # Get embeddings locally\n",
    "    review_emb = model.encode([review_text])\n",
    "    type_emb = model.encode([type_context])\n",
    "\n",
    "    # Compute similarity\n",
    "    similarity = cosine_similarity(review_emb, type_emb)[0][0]\n",
    "    return similarity"
   ]
  },
  {
   "cell_type": "code",
   "execution_count": null,
   "id": "be83a1a3-15a7-4997-a892-c6bfef7f2a48",
   "metadata": {},
   "outputs": [],
   "source": [
    "negative_review = (\n",
    "    \"This review describes a negative experience at a location. \"\n",
    "    \"It focuses on problems, dissatisfaction, or poor service. \"\n",
    "    \"Negative experiences include rude or unhelpful staff, long waits, unclean facilities, broken equipment, or poor service. \"\n",
    "    \"Examples: \"\n",
    "    \"'The parking attendant was rude and unhelpful.', \"\n",
    "    \"'The restaurant was dirty and the food was cold.', \"\n",
    "    \"'I waited 45 minutes for my order and the staff ignored me.'\"\n",
    ")\n",
    "\n",
    "neutral_review = (\n",
    "    \"Informative\"\n",
    "    \"This review reflects a neutral or average experience at a location. \"\n",
    "    \"It reports factual observations about the place, its services, facilities, or environment without showing clear satisfaction or dissatisfaction. \"\n",
    "    \"Examples: \"\n",
    "    \"'The café has tables and chairs arranged neatly.', \"\n",
    "    \"'There is parking available near the building.', \"\n",
    "    \"'Staff responded to my questions as expected.', \"\n",
    "    \"'The mall contains a variety of shops and is straightforward to navigate.'\"\n",
    "    \"'The hotel is located downtown. The rooms were average, and check-in was standard.'\"\n",
    ")\n",
    "\n",
    "advertisement = (\n",
    "    \"This review contains promotional content that are advertisement-like, advertising, or links. \"\n",
    "    \"It includes attempts to sell products or services, provide discounts, or promote websites. \"\n",
    "    \"Examples: \"\n",
    "    \"'Best pizza! Visit www.pizzapromo.com for discounts!', \"\n",
    "    \"'Buy cheap sunglasses at www.freesunglasses.com!', \"\n",
    "    \"'Order now and receive free shipping!'\"\n",
    "    \"'Craving the best burgers in town? Visit McDonald's today and taste the magic – juicy, flavorful, unforgettable!'\"\n",
    ")\n",
    "\n",
    "irrelevant_content = (\n",
    "    \"This review contains content unrelated to the location. \"\n",
    "    \"Irrelevant content includes personal topics, experiences elsewhere, or unrelated products. \"\n",
    "    \"Examples: \"\n",
    "    \"'I love my new phone, but this place is too noisy.', \"\n",
    "    \"'The movie I watched yesterday was amazing, but the restaurant was okay.', \"\n",
    "    \"'My vacation in Bali was fantastic, but the mall was just average.'\"\n",
    ")\n",
    "\n",
    "rant_without_visit = (\n",
    "    \"This review contains complaints or rants from someone who has not personally visited the location. \"\n",
    "    \"Examples: \"\n",
    "    \"I have never visited but I heard that its good\"\n",
    "    \"My family said that the place was awesome\"\n",
    "    \"'Never been here, but I heard it’s terrible.', \"\n",
    "    \"'Someone told me the staff is rude, I wouldn’t go there.', \"\n",
    "    \"'I read online that the service is bad, so avoid it.'\"\n",
    ")\n",
    "\n",
    "positive_review = (\n",
    "    \"This review expresses a positive experience at a location. \"\n",
    "    \"It highlights aspects of the place, its services, facilities, or environment that the reviewer enjoyed or appreciated. \"\n",
    "    \"Examples: \"\n",
    "    \"'The café had a friendly staff and the coffee was excellent.', \"\n",
    "    \"'Parking was easy to find and convenient.', \"\n",
    "    \"'Staff went out of their way to answer my questions and provide assistance.', \"\n",
    "    \"'The mall has a great variety of shops and is easy to navigate.', \"\n",
    "    \"'The restaurant served fresh and delicious food with prompt service.', \"\n",
    "    \"'The park is well-maintained, clean, and relaxing.', \"\n",
    "    \"'The hotel room was spacious, clean, and comfortable.', \"\n",
    "    \"'The museum had engaging exhibits and helpful staff.', \"\n",
    "    \"'The spa provided a relaxing atmosphere and excellent treatments.', \"\n",
    "    \"'The store had well-organized shelves and attentive staff.'\"\n",
    ")\n",
    "\n",
    "political_and_social_insensitivity = (\n",
    "    \"This label is only for reviews that contain clearly offensive, discriminatory, or inappropriate content related to race, religion, gender, nationality, political beliefs, or social groups.\"\n",
    "    \"Do not assign this label for neutral mentions of ethnicity, nationality, or culture, or for minor personal opinions.\"\n",
    "    \"Only use it if the review is explicitly prejudiced, hostile, or discriminatory.\"\n",
    "    \"Examples: \"\n",
    "    \"'The hotel is too crowded with certain racial groups; it’s not enjoyable.', \"\n",
    "    \"'I can’t believe they allow the foreign worker community here; it’s unacceptable.', \"\n",
    ")\n",
    "\n",
    "policies = {\n",
    "    \"negative_review\": negative_review,\n",
    "    \"neutral_review\": neutral_review,\n",
    "    \"positive_review\": positive_review,\n",
    "    \"advertisement\": advertisement,\n",
    "    \"irrelevant_content\": irrelevant_content,\n",
    "    \"rant_without_visit\": rant_without_visit,\n",
    "    \"political_and_social_insensitivity\" : political_and_social_insensitivity\n",
    "}"
   ]
  },
  {
   "cell_type": "code",
   "execution_count": null,
   "id": "ce1ecced-1ddf-4fdb-bbc6-e5ace71fb996",
   "metadata": {},
   "outputs": [],
   "source": [
    "def classify_policy(policies, review_text, processed_review):\n",
    "    max_score = -1\n",
    "    max_policy = None\n",
    "\n",
    "    for policy_name, policy_context in policies.items():\n",
    "        x = compute_relatedness_local(\n",
    "            review_text,\n",
    "            policy_context)\n",
    "        y = compute_relatedness_local( # y is the output of the review summariser\n",
    "            processed_review,\n",
    "            policy_context)\n",
    "\n",
    "        score = 0.3*x + 0.7*y # Add a weighted score\n",
    "\n",
    "        print(policy_name, x, y, score)\n",
    "\n",
    "        if score > max_score:\n",
    "            max_score = score\n",
    "            max_policy = policy_name\n",
    "\n",
    "    return max_policy,max_score"
   ]
  },
  {
   "cell_type": "markdown",
   "id": "bae042ae-a644-41c5-b745-32b18c0c01c0",
   "metadata": {},
   "source": [
    "# Evaluate"
   ]
  },
  {
   "cell_type": "code",
   "execution_count": null,
   "id": "2f88b399-073d-4400-ab3c-000a509adfba",
   "metadata": {
    "scrolled": true
   },
   "outputs": [],
   "source": [
    "df = pd.read_csv(\"processed_reviews2.csv\")\n",
    "df[\"predicted_label\"]= \"\"\n",
    "df[\"predicted_label_score\"]= \"\"\n",
    "\n",
    "for index, row in tqdm(df.iterrows()):\n",
    "    true_label = row[\"policy_label\"]\n",
    "    review = row[\"text\"]\n",
    "    summary = row[\"summary\"]\n",
    "    output_policy, policy_score = classify_policy(policies,review,summary)\n",
    "    df.at[index, \"predicted_label\"] = output_policy\n",
    "    df.at[index, \"predicted_label_score\"] = policy_score\n",
    "\n",
    "df.to_csv(\"ensemble_evaluation_final_modified_summary.csv\", index=False, encoding=\"utf-8\")"
   ]
  },
  {
   "cell_type": "code",
   "execution_count": null,
   "id": "afc201c8-437a-46a1-a596-9c06b401bfb8",
   "metadata": {},
   "outputs": [],
   "source": [
    "asdf"
   ]
  },
  {
   "cell_type": "code",
   "execution_count": null,
   "id": "517139df-00a9-4e32-9ea5-e4200df65c76",
   "metadata": {},
   "outputs": [],
   "source": []
  },
  {
   "cell_type": "code",
   "execution_count": null,
   "id": "78047f24-66c4-46fc-b981-97fccad31401",
   "metadata": {},
   "outputs": [],
   "source": []
  }
 ],
 "metadata": {
  "kernelspec": {
   "display_name": "Python (TikTokTechJam)",
   "language": "python",
   "name": "tiktoktechjam"
  },
  "language_info": {
   "codemirror_mode": {
    "name": "ipython",
    "version": 3
   },
   "file_extension": ".py",
   "mimetype": "text/x-python",
   "name": "python",
   "nbconvert_exporter": "python",
   "pygments_lexer": "ipython3",
   "version": "3.10.18"
  }
 },
 "nbformat": 4,
 "nbformat_minor": 5
}
